{
 "cells": [
  {
   "cell_type": "code",
   "execution_count": 1,
   "metadata": {},
   "outputs": [],
   "source": [
    "import pandas as pd\n",
    "import numpy as np\n",
    "import matplotlib.pyplot as plt\n",
    "%matplotlib inline\n",
    "import warnings\n",
    "warnings.filterwarnings(\"ignore\")\n",
    "import seaborn as sns\n",
    "from sklearn.model_selection import train_test_split, cross_val_score\n",
    "from sklearn.metrics import mean_squared_error\n",
    "from lightgbm import LGBMRegressor\n",
    "from xgboost import XGBRegressor\n",
    "from sklearn.linear_model import LinearRegression, Ridge, Lasso, ElasticNet\n",
    "from sklearn.preprocessing import LabelEncoder"
   ]
  },
  {
   "cell_type": "code",
   "execution_count": 2,
   "metadata": {},
   "outputs": [
    {
     "data": {
      "text/plain": [
       "((6368, 15), (3430, 14))"
      ]
     },
     "execution_count": 2,
     "metadata": {},
     "output_type": "execute_result"
    }
   ],
   "source": [
    "train=pd.read_csv(r\"C:\\Users\\Rahul\\Downloads\\Data\\ML1\\dataset\\train.csv\", parse_dates=[\"instock_date\"])\n",
    "test=pd.read_csv(r\"C:\\Users\\Rahul\\Downloads\\Data\\ML1\\dataset\\test.csv\", parse_dates=[\"instock_date\"])\n",
    "train.shape, test.shape"
   ]
  },
  {
   "cell_type": "code",
   "execution_count": 3,
   "metadata": {},
   "outputs": [
    {
     "data": {
      "text/html": [
       "<div>\n",
       "<style scoped>\n",
       "    .dataframe tbody tr th:only-of-type {\n",
       "        vertical-align: middle;\n",
       "    }\n",
       "\n",
       "    .dataframe tbody tr th {\n",
       "        vertical-align: top;\n",
       "    }\n",
       "\n",
       "    .dataframe thead th {\n",
       "        text-align: right;\n",
       "    }\n",
       "</style>\n",
       "<table border=\"1\" class=\"dataframe\">\n",
       "  <thead>\n",
       "    <tr style=\"text-align: right;\">\n",
       "      <th></th>\n",
       "      <th>Product_id</th>\n",
       "      <th>Stall_no</th>\n",
       "      <th>instock_date</th>\n",
       "      <th>Market_Category</th>\n",
       "      <th>Customer_name</th>\n",
       "      <th>Loyalty_customer</th>\n",
       "      <th>Product_Category</th>\n",
       "      <th>Grade</th>\n",
       "      <th>Demand</th>\n",
       "      <th>Discount_avail</th>\n",
       "      <th>charges_1</th>\n",
       "      <th>charges_2 (%)</th>\n",
       "      <th>Minimum_price</th>\n",
       "      <th>Maximum_price</th>\n",
       "      <th>Selling_Price</th>\n",
       "    </tr>\n",
       "  </thead>\n",
       "  <tbody>\n",
       "    <tr>\n",
       "      <th>0</th>\n",
       "      <td>BRAE2NF6JA5GUEXG</td>\n",
       "      <td>37.0</td>\n",
       "      <td>2015-08-22 18:36:12</td>\n",
       "      <td>2</td>\n",
       "      <td>Lillyann</td>\n",
       "      <td>Yes</td>\n",
       "      <td>Fashion</td>\n",
       "      <td>1</td>\n",
       "      <td>68</td>\n",
       "      <td>0.0</td>\n",
       "      <td>376.0</td>\n",
       "      <td>11.0</td>\n",
       "      <td>2983.0</td>\n",
       "      <td>4713.0</td>\n",
       "      <td>4185.947700</td>\n",
       "    </tr>\n",
       "    <tr>\n",
       "      <th>1</th>\n",
       "      <td>TUNE8SFB6RJN2HSD</td>\n",
       "      <td>38.0</td>\n",
       "      <td>2016-03-27 21:19:13</td>\n",
       "      <td>24</td>\n",
       "      <td>Klynn</td>\n",
       "      <td>Yes</td>\n",
       "      <td>Fashion</td>\n",
       "      <td>0</td>\n",
       "      <td>51</td>\n",
       "      <td>0.0</td>\n",
       "      <td>397.0</td>\n",
       "      <td>12.0</td>\n",
       "      <td>7495.0</td>\n",
       "      <td>10352.0</td>\n",
       "      <td>9271.490256</td>\n",
       "    </tr>\n",
       "    <tr>\n",
       "      <th>2</th>\n",
       "      <td>BRAEAR7WZPQGPBZU</td>\n",
       "      <td>9.0</td>\n",
       "      <td>2015-08-18 19:25:22</td>\n",
       "      <td>447</td>\n",
       "      <td>Ridge</td>\n",
       "      <td>Yes</td>\n",
       "      <td>Child_care</td>\n",
       "      <td>0</td>\n",
       "      <td>10</td>\n",
       "      <td>0.0</td>\n",
       "      <td>250.0</td>\n",
       "      <td>9.0</td>\n",
       "      <td>5752.0</td>\n",
       "      <td>7309.0</td>\n",
       "      <td>6785.701362</td>\n",
       "    </tr>\n",
       "    <tr>\n",
       "      <th>3</th>\n",
       "      <td>WATDZ2ZQ8JPDHCTJ</td>\n",
       "      <td>50.0</td>\n",
       "      <td>2016-03-28 21:53:01</td>\n",
       "      <td>23</td>\n",
       "      <td>Abran</td>\n",
       "      <td>Yes</td>\n",
       "      <td>Educational</td>\n",
       "      <td>2</td>\n",
       "      <td>48</td>\n",
       "      <td>0.0</td>\n",
       "      <td>144.0</td>\n",
       "      <td>13.0</td>\n",
       "      <td>5090.0</td>\n",
       "      <td>20814.0</td>\n",
       "      <td>13028.917824</td>\n",
       "    </tr>\n",
       "    <tr>\n",
       "      <th>4</th>\n",
       "      <td>JWSEBUKYQPMBZ3RK</td>\n",
       "      <td>7.0</td>\n",
       "      <td>2016-03-29 22:58:53</td>\n",
       "      <td>63</td>\n",
       "      <td>Dustyn</td>\n",
       "      <td>Yes</td>\n",
       "      <td>Repair</td>\n",
       "      <td>1</td>\n",
       "      <td>35</td>\n",
       "      <td>1.0</td>\n",
       "      <td>211.0</td>\n",
       "      <td>4.0</td>\n",
       "      <td>2430.0</td>\n",
       "      <td>9261.0</td>\n",
       "      <td>906.553935</td>\n",
       "    </tr>\n",
       "    <tr>\n",
       "      <th>5</th>\n",
       "      <td>SHIECAYW3VZWGZGX</td>\n",
       "      <td>23.0</td>\n",
       "      <td>2015-09-25 16:31:46</td>\n",
       "      <td>162</td>\n",
       "      <td>Brilee</td>\n",
       "      <td>No</td>\n",
       "      <td>Technology</td>\n",
       "      <td>1</td>\n",
       "      <td>49</td>\n",
       "      <td>0.0</td>\n",
       "      <td>633.0</td>\n",
       "      <td>6.0</td>\n",
       "      <td>3959.0</td>\n",
       "      <td>6104.0</td>\n",
       "      <td>5631.247872</td>\n",
       "    </tr>\n",
       "    <tr>\n",
       "      <th>6</th>\n",
       "      <td>SHOE4FZGGTE7HJXN</td>\n",
       "      <td>33.0</td>\n",
       "      <td>2014-12-08 12:25:52</td>\n",
       "      <td>462</td>\n",
       "      <td>Zoe</td>\n",
       "      <td>No</td>\n",
       "      <td>Cosmetics</td>\n",
       "      <td>3</td>\n",
       "      <td>57</td>\n",
       "      <td>0.0</td>\n",
       "      <td>263.0</td>\n",
       "      <td>13.0</td>\n",
       "      <td>2006.0</td>\n",
       "      <td>5257.0</td>\n",
       "      <td>3874.264992</td>\n",
       "    </tr>\n",
       "    <tr>\n",
       "      <th>7</th>\n",
       "      <td>SHOE6QGAYFFMBWG6</td>\n",
       "      <td>4.0</td>\n",
       "      <td>2015-09-22 14:29:06</td>\n",
       "      <td>23</td>\n",
       "      <td>Koby</td>\n",
       "      <td>Yes</td>\n",
       "      <td>Educational</td>\n",
       "      <td>1</td>\n",
       "      <td>67</td>\n",
       "      <td>0.0</td>\n",
       "      <td>104.0</td>\n",
       "      <td>15.0</td>\n",
       "      <td>3596.0</td>\n",
       "      <td>5921.0</td>\n",
       "      <td>4820.943600</td>\n",
       "    </tr>\n",
       "    <tr>\n",
       "      <th>8</th>\n",
       "      <td>KRTEBSMKCGFESHYX</td>\n",
       "      <td>26.0</td>\n",
       "      <td>2016-03-28 21:48:01</td>\n",
       "      <td>156</td>\n",
       "      <td>Tiffani</td>\n",
       "      <td>Yes</td>\n",
       "      <td>Child_care</td>\n",
       "      <td>0</td>\n",
       "      <td>53</td>\n",
       "      <td>0.0</td>\n",
       "      <td>310.0</td>\n",
       "      <td>6.0</td>\n",
       "      <td>6965.0</td>\n",
       "      <td>10194.0</td>\n",
       "      <td>8837.724240</td>\n",
       "    </tr>\n",
       "    <tr>\n",
       "      <th>9</th>\n",
       "      <td>BRAE3P8Y8UVRY43K</td>\n",
       "      <td>5.0</td>\n",
       "      <td>2015-08-19 22:16:52</td>\n",
       "      <td>275</td>\n",
       "      <td>Nigel</td>\n",
       "      <td>Yes</td>\n",
       "      <td>Child_care</td>\n",
       "      <td>0</td>\n",
       "      <td>84</td>\n",
       "      <td>1.0</td>\n",
       "      <td>321.0</td>\n",
       "      <td>8.0</td>\n",
       "      <td>1103.0</td>\n",
       "      <td>5430.0</td>\n",
       "      <td>530.761862</td>\n",
       "    </tr>\n",
       "  </tbody>\n",
       "</table>\n",
       "</div>"
      ],
      "text/plain": [
       "         Product_id  Stall_no        instock_date  Market_Category  \\\n",
       "0  BRAE2NF6JA5GUEXG      37.0 2015-08-22 18:36:12                2   \n",
       "1  TUNE8SFB6RJN2HSD      38.0 2016-03-27 21:19:13               24   \n",
       "2  BRAEAR7WZPQGPBZU       9.0 2015-08-18 19:25:22              447   \n",
       "3  WATDZ2ZQ8JPDHCTJ      50.0 2016-03-28 21:53:01               23   \n",
       "4  JWSEBUKYQPMBZ3RK       7.0 2016-03-29 22:58:53               63   \n",
       "5  SHIECAYW3VZWGZGX      23.0 2015-09-25 16:31:46              162   \n",
       "6  SHOE4FZGGTE7HJXN      33.0 2014-12-08 12:25:52              462   \n",
       "7  SHOE6QGAYFFMBWG6       4.0 2015-09-22 14:29:06               23   \n",
       "8  KRTEBSMKCGFESHYX      26.0 2016-03-28 21:48:01              156   \n",
       "9  BRAE3P8Y8UVRY43K       5.0 2015-08-19 22:16:52              275   \n",
       "\n",
       "  Customer_name Loyalty_customer Product_Category  Grade  Demand  \\\n",
       "0      Lillyann              Yes          Fashion      1      68   \n",
       "1         Klynn              Yes          Fashion      0      51   \n",
       "2         Ridge              Yes       Child_care      0      10   \n",
       "3         Abran              Yes      Educational      2      48   \n",
       "4        Dustyn              Yes           Repair      1      35   \n",
       "5        Brilee              No        Technology      1      49   \n",
       "6           Zoe              No         Cosmetics      3      57   \n",
       "7          Koby              Yes      Educational      1      67   \n",
       "8       Tiffani              Yes       Child_care      0      53   \n",
       "9         Nigel              Yes       Child_care      0      84   \n",
       "\n",
       "   Discount_avail  charges_1  charges_2 (%)  Minimum_price  Maximum_price  \\\n",
       "0             0.0      376.0           11.0         2983.0         4713.0   \n",
       "1             0.0      397.0           12.0         7495.0        10352.0   \n",
       "2             0.0      250.0            9.0         5752.0         7309.0   \n",
       "3             0.0      144.0           13.0         5090.0        20814.0   \n",
       "4             1.0      211.0            4.0         2430.0         9261.0   \n",
       "5             0.0      633.0            6.0         3959.0         6104.0   \n",
       "6             0.0      263.0           13.0         2006.0         5257.0   \n",
       "7             0.0      104.0           15.0         3596.0         5921.0   \n",
       "8             0.0      310.0            6.0         6965.0        10194.0   \n",
       "9             1.0      321.0            8.0         1103.0         5430.0   \n",
       "\n",
       "   Selling_Price  \n",
       "0    4185.947700  \n",
       "1    9271.490256  \n",
       "2    6785.701362  \n",
       "3   13028.917824  \n",
       "4     906.553935  \n",
       "5    5631.247872  \n",
       "6    3874.264992  \n",
       "7    4820.943600  \n",
       "8    8837.724240  \n",
       "9     530.761862  "
      ]
     },
     "execution_count": 3,
     "metadata": {},
     "output_type": "execute_result"
    }
   ],
   "source": [
    "train.head(10)"
   ]
  },
  {
   "cell_type": "code",
   "execution_count": 4,
   "metadata": {},
   "outputs": [
    {
     "name": "stdout",
     "output_type": "stream",
     "text": [
      "<class 'pandas.core.frame.DataFrame'>\n",
      "RangeIndex: 6368 entries, 0 to 6367\n",
      "Data columns (total 15 columns):\n",
      " #   Column            Non-Null Count  Dtype         \n",
      "---  ------            --------------  -----         \n",
      " 0   Product_id        6368 non-null   object        \n",
      " 1   Stall_no          6363 non-null   float64       \n",
      " 2   instock_date      6368 non-null   datetime64[ns]\n",
      " 3   Market_Category   6368 non-null   int64         \n",
      " 4   Customer_name     6157 non-null   object        \n",
      " 5   Loyalty_customer  6368 non-null   object        \n",
      " 6   Product_Category  6368 non-null   object        \n",
      " 7   Grade             6368 non-null   int64         \n",
      " 8   Demand            6368 non-null   int64         \n",
      " 9   Discount_avail    6330 non-null   float64       \n",
      " 10  charges_1         6170 non-null   float64       \n",
      " 11  charges_2 (%)     6163 non-null   float64       \n",
      " 12  Minimum_price     6330 non-null   float64       \n",
      " 13  Maximum_price     6025 non-null   float64       \n",
      " 14  Selling_Price     6327 non-null   float64       \n",
      "dtypes: datetime64[ns](1), float64(7), int64(3), object(4)\n",
      "memory usage: 746.4+ KB\n"
     ]
    },
    {
     "data": {
      "text/plain": [
       "(None,\n",
       " Product_id            0\n",
       " Stall_no              5\n",
       " instock_date          0\n",
       " Market_Category       0\n",
       " Customer_name       211\n",
       " Loyalty_customer      0\n",
       " Product_Category      0\n",
       " Grade                 0\n",
       " Demand                0\n",
       " Discount_avail       38\n",
       " charges_1           198\n",
       " charges_2 (%)       205\n",
       " Minimum_price        38\n",
       " Maximum_price       343\n",
       " Selling_Price        41\n",
       " dtype: int64)"
      ]
     },
     "execution_count": 4,
     "metadata": {},
     "output_type": "execute_result"
    }
   ],
   "source": [
    "train.info(), train.isnull().sum()"
   ]
  },
  {
   "cell_type": "code",
   "execution_count": 5,
   "metadata": {},
   "outputs": [
    {
     "data": {
      "text/plain": [
       "Product_id           0\n",
       "Stall_no             1\n",
       "instock_date         0\n",
       "Market_Category      0\n",
       "Customer_name       53\n",
       "Loyalty_customer     0\n",
       "Product_Category     0\n",
       "Grade                0\n",
       "Demand               0\n",
       "Discount_avail       0\n",
       "charges_1           36\n",
       "charges_2 (%)        5\n",
       "Minimum_price       14\n",
       "Maximum_price        0\n",
       "dtype: int64"
      ]
     },
     "execution_count": 5,
     "metadata": {},
     "output_type": "execute_result"
    }
   ],
   "source": [
    "test.isnull().sum()"
   ]
  },
  {
   "cell_type": "code",
   "execution_count": 6,
   "metadata": {},
   "outputs": [
    {
     "data": {
      "text/plain": [
       "<matplotlib.collections.PathCollection at 0x183c97309d0>"
      ]
     },
     "execution_count": 6,
     "metadata": {},
     "output_type": "execute_result"
    },
    {
     "data": {
      "image/png": "[encoded data removed]",
      "text/plain": [
       "<Figure size 432x288 with 1 Axes>"
      ]
     },
     "metadata": {
      "needs_background": "light"
     },
     "output_type": "display_data"
    }
   ],
   "source": [
    "plt.scatter(train[\"instock_date\"], train[\"Selling_Price\"])"
   ]
  },
  {
   "cell_type": "code",
   "execution_count": 7,
   "metadata": {},
   "outputs": [
    {
     "data": {
      "image/png": "[encoded data removed]",
      "text/plain": [
       "<Figure size 432x288 with 1 Axes>"
      ]
     },
     "metadata": {
      "needs_background": "light"
     },
     "output_type": "display_data"
    }
   ],
   "source": [
    "plt.hist(train[\"Selling_Price\"]);"
   ]
  },
  {
   "cell_type": "code",
   "execution_count": 260,
   "metadata": {},
   "outputs": [],
   "source": [
    "train=train[train[\"Selling_Price\"]>0]"
   ]
  },
  {
   "cell_type": "code",
   "execution_count": 253,
   "metadata": {},
   "outputs": [],
   "source": [
    "train[\"Selling_Price\"]=np.where((train[\"Discount_avail\"]==0) & (train[\"Selling_Price\"]<train[\"Minimum_price\"]),train[\"Minimum_price\"],train[\"Selling_Price\"])"
   ]
  },
  {
   "cell_type": "code",
   "execution_count": 49,
   "metadata": {},
   "outputs": [],
   "source": [
    "train[\"Selling_Price\"]=np.where(train[\"Selling_Price\"]>train[\"Maximum_price\"],train[\"Maximum_price\"],train[\"Selling_Price\"])"
   ]
  },
  {
   "cell_type": "code",
   "execution_count": 261,
   "metadata": {},
   "outputs": [],
   "source": [
    "train[\"Stall_no\"].fillna(20,inplace=True)\n",
    "test[\"Stall_no\"].fillna(20, inplace=True)"
   ]
  },
  {
   "cell_type": "code",
   "execution_count": 262,
   "metadata": {},
   "outputs": [],
   "source": [
    "train.drop([\"Product_id\",\"Customer_name\"], axis=1, inplace=True)\n",
    "test.drop([\"Product_id\",\"Customer_name\"], axis=1, inplace=True)"
   ]
  },
  {
   "cell_type": "code",
   "execution_count": 263,
   "metadata": {},
   "outputs": [
    {
     "data": {
      "text/plain": [
       "0.0    5396\n",
       "1.0     880\n",
       "Name: Discount_avail, dtype: int64"
      ]
     },
     "execution_count": 263,
     "metadata": {},
     "output_type": "execute_result"
    }
   ],
   "source": [
    "train.Discount_avail.value_counts()"
   ]
  },
  {
   "cell_type": "code",
   "execution_count": 264,
   "metadata": {},
   "outputs": [],
   "source": [
    "train[\"Discount_avail\"].fillna(0, inplace=True)\n",
    "test[\"Discount_avail\"].fillna(0, inplace=True)"
   ]
  },
  {
   "cell_type": "code",
   "execution_count": 265,
   "metadata": {},
   "outputs": [],
   "source": [
    "mean_charge1=pd.pivot_table(index=\"Grade\", values=\"charges_1\", data=train,aggfunc=\"mean\")"
   ]
  },
  {
   "cell_type": "code",
   "execution_count": 266,
   "metadata": {},
   "outputs": [],
   "source": [
    "train.loc[train[\"charges_1\"].isnull(),\"charges_1\"]=train.loc[train[\"charges_1\"].isnull(),\"Grade\"].apply(lambda x: mean_charge1.loc[x])\n",
    "test.loc[test[\"charges_1\"].isnull(),\"charges_1\"]=test.loc[test[\"charges_1\"].isnull(),\"Grade\"].apply(lambda x: mean_charge1.loc[x])\n",
    "train[\"charges_1\"]=train[\"charges_1\"].astype(\"float\")\n",
    "test[\"charges_1\"]=test[\"charges_1\"].astype(\"float\")"
   ]
  },
  {
   "cell_type": "code",
   "execution_count": 267,
   "metadata": {},
   "outputs": [],
   "source": [
    "mean_charge2=pd.pivot_table(index=\"Grade\", values=\"charges_2 (%)\", data=train,aggfunc=\"mean\")"
   ]
  },
  {
   "cell_type": "code",
   "execution_count": 268,
   "metadata": {},
   "outputs": [],
   "source": [
    "train.loc[train[\"charges_2 (%)\"].isnull(),\"charges_2 (%)\"]=train.loc[train[\"charges_2 (%)\"].isnull(),\"Grade\"].apply(lambda x: mean_charge2.loc[x])\n",
    "test.loc[test[\"charges_2 (%)\"].isnull(),\"charges_2 (%)\"]=test.loc[test[\"charges_2 (%)\"].isnull(),\"Grade\"].apply(lambda x: mean_charge2.loc[x])\n",
    "test[\"charges_2 (%)\"]=test[\"charges_2 (%)\"].astype(\"float\")"
   ]
  },
  {
   "cell_type": "code",
   "execution_count": 269,
   "metadata": {},
   "outputs": [],
   "source": [
    "mean_min=pd.pivot_table(index=\"Grade\", values=\"Minimum_price\", data=train,aggfunc=\"mean\")"
   ]
  },
  {
   "cell_type": "code",
   "execution_count": 270,
   "metadata": {},
   "outputs": [],
   "source": [
    "train.loc[train[\"Minimum_price\"].isnull(),\"Minimum_price\"]=train.loc[train[\"Minimum_price\"].isnull(),\"Grade\"].apply(lambda x: mean_min.loc[x])\n",
    "test.loc[test[\"Minimum_price\"].isnull(),\"Minimum_price\"]=test.loc[test[\"Minimum_price\"].isnull(),\"Grade\"].apply(lambda x: mean_min.loc[x])\n",
    "test[\"Minimum_price\"]=test[\"Minimum_price\"].astype(\"float\")"
   ]
  },
  {
   "cell_type": "code",
   "execution_count": 271,
   "metadata": {},
   "outputs": [],
   "source": [
    "mean_max=pd.pivot_table(index=\"Grade\", values=\"Maximum_price\", data=train,aggfunc=\"mean\")"
   ]
  },
  {
   "cell_type": "code",
   "execution_count": 272,
   "metadata": {},
   "outputs": [],
   "source": [
    "train.loc[train[\"Maximum_price\"].isnull(),\"Maximum_price\"]=train.loc[train[\"Maximum_price\"].isnull(),\"Grade\"].apply(lambda x: mean_max.loc[x])"
   ]
  },
  {
   "cell_type": "code",
   "execution_count": 273,
   "metadata": {},
   "outputs": [],
   "source": [
    "mean_sell=pd.pivot_table(index=\"Grade\", values=\"Selling_Price\", data=train,aggfunc=\"mean\")"
   ]
  },
  {
   "cell_type": "code",
   "execution_count": 274,
   "metadata": {},
   "outputs": [],
   "source": [
    "train.loc[train[\"Selling_Price\"].isnull(),\"Selling_Price\"]=train.loc[train[\"Selling_Price\"].isnull(),\"Grade\"].apply(lambda x: mean_sell.loc[x])"
   ]
  },
  {
   "cell_type": "code",
   "execution_count": 275,
   "metadata": {},
   "outputs": [
    {
     "data": {
      "text/html": [
       "<div>\n",
       "<style scoped>\n",
       "    .dataframe tbody tr th:only-of-type {\n",
       "        vertical-align: middle;\n",
       "    }\n",
       "\n",
       "    .dataframe tbody tr th {\n",
       "        vertical-align: top;\n",
       "    }\n",
       "\n",
       "    .dataframe thead th {\n",
       "        text-align: right;\n",
       "    }\n",
       "</style>\n",
       "<table border=\"1\" class=\"dataframe\">\n",
       "  <thead>\n",
       "    <tr style=\"text-align: right;\">\n",
       "      <th></th>\n",
       "      <th>Stall_no</th>\n",
       "      <th>Market_Category</th>\n",
       "      <th>Loyalty_customer</th>\n",
       "      <th>Product_Category</th>\n",
       "      <th>Grade</th>\n",
       "      <th>Demand</th>\n",
       "      <th>Discount_avail</th>\n",
       "      <th>charges_1</th>\n",
       "      <th>charges_2 (%)</th>\n",
       "      <th>Minimum_price</th>\n",
       "      <th>Maximum_price</th>\n",
       "      <th>Selling_Price</th>\n",
       "      <th>day</th>\n",
       "      <th>month</th>\n",
       "      <th>hour</th>\n",
       "      <th>dayofweek</th>\n",
       "    </tr>\n",
       "  </thead>\n",
       "  <tbody>\n",
       "    <tr>\n",
       "      <th>0</th>\n",
       "      <td>37.0</td>\n",
       "      <td>2</td>\n",
       "      <td>Yes</td>\n",
       "      <td>Fashion</td>\n",
       "      <td>1</td>\n",
       "      <td>68</td>\n",
       "      <td>0.0</td>\n",
       "      <td>376.0</td>\n",
       "      <td>11.0</td>\n",
       "      <td>2983.0</td>\n",
       "      <td>4713.0</td>\n",
       "      <td>4185.947700</td>\n",
       "      <td>22</td>\n",
       "      <td>8</td>\n",
       "      <td>18</td>\n",
       "      <td>5</td>\n",
       "    </tr>\n",
       "    <tr>\n",
       "      <th>1</th>\n",
       "      <td>38.0</td>\n",
       "      <td>24</td>\n",
       "      <td>Yes</td>\n",
       "      <td>Fashion</td>\n",
       "      <td>0</td>\n",
       "      <td>51</td>\n",
       "      <td>0.0</td>\n",
       "      <td>397.0</td>\n",
       "      <td>12.0</td>\n",
       "      <td>7495.0</td>\n",
       "      <td>10352.0</td>\n",
       "      <td>9271.490256</td>\n",
       "      <td>27</td>\n",
       "      <td>3</td>\n",
       "      <td>21</td>\n",
       "      <td>6</td>\n",
       "    </tr>\n",
       "    <tr>\n",
       "      <th>2</th>\n",
       "      <td>9.0</td>\n",
       "      <td>447</td>\n",
       "      <td>Yes</td>\n",
       "      <td>Child_care</td>\n",
       "      <td>0</td>\n",
       "      <td>10</td>\n",
       "      <td>0.0</td>\n",
       "      <td>250.0</td>\n",
       "      <td>9.0</td>\n",
       "      <td>5752.0</td>\n",
       "      <td>7309.0</td>\n",
       "      <td>6785.701362</td>\n",
       "      <td>18</td>\n",
       "      <td>8</td>\n",
       "      <td>19</td>\n",
       "      <td>1</td>\n",
       "    </tr>\n",
       "    <tr>\n",
       "      <th>3</th>\n",
       "      <td>50.0</td>\n",
       "      <td>23</td>\n",
       "      <td>Yes</td>\n",
       "      <td>Educational</td>\n",
       "      <td>2</td>\n",
       "      <td>48</td>\n",
       "      <td>0.0</td>\n",
       "      <td>144.0</td>\n",
       "      <td>13.0</td>\n",
       "      <td>5090.0</td>\n",
       "      <td>20814.0</td>\n",
       "      <td>13028.917824</td>\n",
       "      <td>28</td>\n",
       "      <td>3</td>\n",
       "      <td>21</td>\n",
       "      <td>0</td>\n",
       "    </tr>\n",
       "    <tr>\n",
       "      <th>4</th>\n",
       "      <td>7.0</td>\n",
       "      <td>63</td>\n",
       "      <td>Yes</td>\n",
       "      <td>Repair</td>\n",
       "      <td>1</td>\n",
       "      <td>35</td>\n",
       "      <td>1.0</td>\n",
       "      <td>211.0</td>\n",
       "      <td>4.0</td>\n",
       "      <td>2430.0</td>\n",
       "      <td>9261.0</td>\n",
       "      <td>906.553935</td>\n",
       "      <td>29</td>\n",
       "      <td>3</td>\n",
       "      <td>22</td>\n",
       "      <td>1</td>\n",
       "    </tr>\n",
       "  </tbody>\n",
       "</table>\n",
       "</div>"
      ],
      "text/plain": [
       "   Stall_no  Market_Category Loyalty_customer Product_Category  Grade  Demand  \\\n",
       "0      37.0                2              Yes          Fashion      1      68   \n",
       "1      38.0               24              Yes          Fashion      0      51   \n",
       "2       9.0              447              Yes       Child_care      0      10   \n",
       "3      50.0               23              Yes      Educational      2      48   \n",
       "4       7.0               63              Yes           Repair      1      35   \n",
       "\n",
       "   Discount_avail  charges_1  charges_2 (%)  Minimum_price  Maximum_price  \\\n",
       "0             0.0      376.0           11.0         2983.0         4713.0   \n",
       "1             0.0      397.0           12.0         7495.0        10352.0   \n",
       "2             0.0      250.0            9.0         5752.0         7309.0   \n",
       "3             0.0      144.0           13.0         5090.0        20814.0   \n",
       "4             1.0      211.0            4.0         2430.0         9261.0   \n",
       "\n",
       "   Selling_Price  day  month  hour  dayofweek  \n",
       "0    4185.947700   22      8    18          5  \n",
       "1    9271.490256   27      3    21          6  \n",
       "2    6785.701362   18      8    19          1  \n",
       "3   13028.917824   28      3    21          0  \n",
       "4     906.553935   29      3    22          1  "
      ]
     },
     "execution_count": 275,
     "metadata": {},
     "output_type": "execute_result"
    }
   ],
   "source": [
    "train[\"day\"]=train[\"instock_date\"].dt.day\n",
    "train[\"month\"]=train[\"instock_date\"].dt.month\n",
    "train[\"hour\"]=train[\"instock_date\"].dt.hour\n",
    "train[\"dayofweek\"]=train[\"instock_date\"].dt.dayofweek\n",
    "test[\"day\"]=test[\"instock_date\"].dt.day\n",
    "test[\"month\"]=test[\"instock_date\"].dt.month\n",
    "test[\"hour\"]=test[\"instock_date\"].dt.hour\n",
    "test[\"dayofweek\"]=test[\"instock_date\"].dt.dayofweek\n",
    "train.drop(\"instock_date\", axis=1, inplace=True)\n",
    "test.drop(\"instock_date\", axis=1, inplace=True)\n",
    "train.head()"
   ]
  },
  {
   "cell_type": "code",
   "execution_count": 276,
   "metadata": {},
   "outputs": [],
   "source": [
    "train[\"Selling_Price\"]=train[\"Selling_Price\"].astype(\"float\")"
   ]
  },
  {
   "cell_type": "code",
   "execution_count": 277,
   "metadata": {},
   "outputs": [
    {
     "data": {
      "text/html": [
       "<div>\n",
       "<style scoped>\n",
       "    .dataframe tbody tr th:only-of-type {\n",
       "        vertical-align: middle;\n",
       "    }\n",
       "\n",
       "    .dataframe tbody tr th {\n",
       "        vertical-align: top;\n",
       "    }\n",
       "\n",
       "    .dataframe thead th {\n",
       "        text-align: right;\n",
       "    }\n",
       "</style>\n",
       "<table border=\"1\" class=\"dataframe\">\n",
       "  <thead>\n",
       "    <tr style=\"text-align: right;\">\n",
       "      <th></th>\n",
       "      <th>m_mean</th>\n",
       "      <th>m_count</th>\n",
       "    </tr>\n",
       "    <tr>\n",
       "      <th>Market_Category</th>\n",
       "      <th></th>\n",
       "      <th></th>\n",
       "    </tr>\n",
       "  </thead>\n",
       "  <tbody>\n",
       "    <tr>\n",
       "      <th>0</th>\n",
       "      <td>4896.152507</td>\n",
       "      <td>34</td>\n",
       "    </tr>\n",
       "    <tr>\n",
       "      <th>1</th>\n",
       "      <td>3250.473849</td>\n",
       "      <td>41</td>\n",
       "    </tr>\n",
       "    <tr>\n",
       "      <th>2</th>\n",
       "      <td>5622.707932</td>\n",
       "      <td>28</td>\n",
       "    </tr>\n",
       "    <tr>\n",
       "      <th>3</th>\n",
       "      <td>2874.338211</td>\n",
       "      <td>239</td>\n",
       "    </tr>\n",
       "    <tr>\n",
       "      <th>6</th>\n",
       "      <td>5157.042294</td>\n",
       "      <td>3</td>\n",
       "    </tr>\n",
       "  </tbody>\n",
       "</table>\n",
       "</div>"
      ],
      "text/plain": [
       "                      m_mean  m_count\n",
       "Market_Category                      \n",
       "0                4896.152507       34\n",
       "1                3250.473849       41\n",
       "2                5622.707932       28\n",
       "3                2874.338211      239\n",
       "6                5157.042294        3"
      ]
     },
     "execution_count": 277,
     "metadata": {},
     "output_type": "execute_result"
    }
   ],
   "source": [
    "m_train=train[[\"Market_Category\",\"Selling_Price\"]].groupby(\"Market_Category\").agg([\"mean\",\"count\"])\n",
    "m_train.columns=[\"m_mean\",\"m_count\"]\n",
    "m_train.head()"
   ]
  },
  {
   "cell_type": "code",
   "execution_count": 278,
   "metadata": {},
   "outputs": [],
   "source": [
    "train=pd.merge(train,m_train, on=[\"Market_Category\"], how=\"left\")\n",
    "test=pd.merge(test,m_train, on=[\"Market_Category\"], how=\"left\")"
   ]
  },
  {
   "cell_type": "code",
   "execution_count": 279,
   "metadata": {},
   "outputs": [
    {
     "data": {
      "text/html": [
       "<div>\n",
       "<style scoped>\n",
       "    .dataframe tbody tr th:only-of-type {\n",
       "        vertical-align: middle;\n",
       "    }\n",
       "\n",
       "    .dataframe tbody tr th {\n",
       "        vertical-align: top;\n",
       "    }\n",
       "\n",
       "    .dataframe thead th {\n",
       "        text-align: right;\n",
       "    }\n",
       "</style>\n",
       "<table border=\"1\" class=\"dataframe\">\n",
       "  <thead>\n",
       "    <tr style=\"text-align: right;\">\n",
       "      <th></th>\n",
       "      <th>mean</th>\n",
       "      <th>count</th>\n",
       "    </tr>\n",
       "    <tr>\n",
       "      <th>Product_Category</th>\n",
       "      <th></th>\n",
       "      <th></th>\n",
       "    </tr>\n",
       "  </thead>\n",
       "  <tbody>\n",
       "    <tr>\n",
       "      <th>Child_care</th>\n",
       "      <td>4629.952244</td>\n",
       "      <td>652</td>\n",
       "    </tr>\n",
       "    <tr>\n",
       "      <th>Cosmetics</th>\n",
       "      <td>4522.018399</td>\n",
       "      <td>643</td>\n",
       "    </tr>\n",
       "    <tr>\n",
       "      <th>Educational</th>\n",
       "      <td>4292.141616</td>\n",
       "      <td>605</td>\n",
       "    </tr>\n",
       "    <tr>\n",
       "      <th>Fashion</th>\n",
       "      <td>4865.215485</td>\n",
       "      <td>604</td>\n",
       "    </tr>\n",
       "    <tr>\n",
       "      <th>Home_decor</th>\n",
       "      <td>4564.958422</td>\n",
       "      <td>610</td>\n",
       "    </tr>\n",
       "    <tr>\n",
       "      <th>Hospitality</th>\n",
       "      <td>4498.088248</td>\n",
       "      <td>626</td>\n",
       "    </tr>\n",
       "    <tr>\n",
       "      <th>Organic</th>\n",
       "      <td>4337.370474</td>\n",
       "      <td>618</td>\n",
       "    </tr>\n",
       "    <tr>\n",
       "      <th>Pet_care</th>\n",
       "      <td>4631.992958</td>\n",
       "      <td>674</td>\n",
       "    </tr>\n",
       "    <tr>\n",
       "      <th>Repair</th>\n",
       "      <td>4622.356120</td>\n",
       "      <td>665</td>\n",
       "    </tr>\n",
       "    <tr>\n",
       "      <th>Technology</th>\n",
       "      <td>4849.770133</td>\n",
       "      <td>616</td>\n",
       "    </tr>\n",
       "  </tbody>\n",
       "</table>\n",
       "</div>"
      ],
      "text/plain": [
       "                         mean  count\n",
       "Product_Category                    \n",
       "Child_care        4629.952244    652\n",
       "Cosmetics         4522.018399    643\n",
       "Educational       4292.141616    605\n",
       "Fashion           4865.215485    604\n",
       "Home_decor        4564.958422    610\n",
       "Hospitality       4498.088248    626\n",
       "Organic           4337.370474    618\n",
       "Pet_care          4631.992958    674\n",
       "Repair            4622.356120    665\n",
       "Technology        4849.770133    616"
      ]
     },
     "execution_count": 279,
     "metadata": {},
     "output_type": "execute_result"
    }
   ],
   "source": [
    "s_train=train[[\"Product_Category\",\"Selling_Price\"]].groupby(\"Product_Category\").agg([\"mean\",\"count\"])\n",
    "s_train.columns=[\"mean\",\"count\"]\n",
    "s_train"
   ]
  },
  {
   "cell_type": "code",
   "execution_count": 280,
   "metadata": {},
   "outputs": [],
   "source": [
    "train=pd.merge(train,s_train, on=[\"Product_Category\"], how=\"left\")\n",
    "test=pd.merge(test,s_train, on=[\"Product_Category\"], how=\"left\")"
   ]
  },
  {
   "cell_type": "code",
   "execution_count": 281,
   "metadata": {},
   "outputs": [
    {
     "data": {
      "text/html": [
       "<div>\n",
       "<style scoped>\n",
       "    .dataframe tbody tr th:only-of-type {\n",
       "        vertical-align: middle;\n",
       "    }\n",
       "\n",
       "    .dataframe tbody tr th {\n",
       "        vertical-align: top;\n",
       "    }\n",
       "\n",
       "    .dataframe thead th {\n",
       "        text-align: right;\n",
       "    }\n",
       "</style>\n",
       "<table border=\"1\" class=\"dataframe\">\n",
       "  <thead>\n",
       "    <tr style=\"text-align: right;\">\n",
       "      <th></th>\n",
       "      <th>g_mean</th>\n",
       "      <th>g_count</th>\n",
       "    </tr>\n",
       "    <tr>\n",
       "      <th>Grade</th>\n",
       "      <th></th>\n",
       "      <th></th>\n",
       "    </tr>\n",
       "  </thead>\n",
       "  <tbody>\n",
       "    <tr>\n",
       "      <th>0</th>\n",
       "      <td>4422.445025</td>\n",
       "      <td>4339</td>\n",
       "    </tr>\n",
       "    <tr>\n",
       "      <th>1</th>\n",
       "      <td>5759.772743</td>\n",
       "      <td>379</td>\n",
       "    </tr>\n",
       "    <tr>\n",
       "      <th>2</th>\n",
       "      <td>4171.635356</td>\n",
       "      <td>1093</td>\n",
       "    </tr>\n",
       "    <tr>\n",
       "      <th>3</th>\n",
       "      <td>5964.927400</td>\n",
       "      <td>502</td>\n",
       "    </tr>\n",
       "  </tbody>\n",
       "</table>\n",
       "</div>"
      ],
      "text/plain": [
       "            g_mean  g_count\n",
       "Grade                      \n",
       "0      4422.445025     4339\n",
       "1      5759.772743      379\n",
       "2      4171.635356     1093\n",
       "3      5964.927400      502"
      ]
     },
     "execution_count": 281,
     "metadata": {},
     "output_type": "execute_result"
    }
   ],
   "source": [
    "g_train=train[[\"Grade\",\"Selling_Price\"]].groupby(\"Grade\").agg([\"mean\",\"count\"])\n",
    "g_train.columns=[\"g_mean\",\"g_count\"]\n",
    "g_train.head()"
   ]
  },
  {
   "cell_type": "code",
   "execution_count": 282,
   "metadata": {},
   "outputs": [],
   "source": [
    "train=pd.merge(train,g_train, on=[\"Grade\"], how=\"left\")\n",
    "test=pd.merge(test,g_train, on=[\"Grade\"], how=\"left\")"
   ]
  },
  {
   "cell_type": "code",
   "execution_count": 283,
   "metadata": {},
   "outputs": [
    {
     "data": {
      "text/html": [
       "<div>\n",
       "<style scoped>\n",
       "    .dataframe tbody tr th:only-of-type {\n",
       "        vertical-align: middle;\n",
       "    }\n",
       "\n",
       "    .dataframe tbody tr th {\n",
       "        vertical-align: top;\n",
       "    }\n",
       "\n",
       "    .dataframe thead th {\n",
       "        text-align: right;\n",
       "    }\n",
       "</style>\n",
       "<table border=\"1\" class=\"dataframe\">\n",
       "  <thead>\n",
       "    <tr style=\"text-align: right;\">\n",
       "      <th></th>\n",
       "      <th>de_mean</th>\n",
       "      <th>de_count</th>\n",
       "    </tr>\n",
       "    <tr>\n",
       "      <th>Demand</th>\n",
       "      <th></th>\n",
       "      <th></th>\n",
       "    </tr>\n",
       "  </thead>\n",
       "  <tbody>\n",
       "    <tr>\n",
       "      <th>1</th>\n",
       "      <td>4500.852246</td>\n",
       "      <td>73</td>\n",
       "    </tr>\n",
       "    <tr>\n",
       "      <th>2</th>\n",
       "      <td>4933.538177</td>\n",
       "      <td>55</td>\n",
       "    </tr>\n",
       "    <tr>\n",
       "      <th>3</th>\n",
       "      <td>4644.687051</td>\n",
       "      <td>68</td>\n",
       "    </tr>\n",
       "    <tr>\n",
       "      <th>4</th>\n",
       "      <td>4418.539049</td>\n",
       "      <td>66</td>\n",
       "    </tr>\n",
       "    <tr>\n",
       "      <th>5</th>\n",
       "      <td>4642.443644</td>\n",
       "      <td>61</td>\n",
       "    </tr>\n",
       "  </tbody>\n",
       "</table>\n",
       "</div>"
      ],
      "text/plain": [
       "            de_mean  de_count\n",
       "Demand                       \n",
       "1       4500.852246        73\n",
       "2       4933.538177        55\n",
       "3       4644.687051        68\n",
       "4       4418.539049        66\n",
       "5       4642.443644        61"
      ]
     },
     "execution_count": 283,
     "metadata": {},
     "output_type": "execute_result"
    }
   ],
   "source": [
    "de_train=train[[\"Demand\",\"Selling_Price\"]].groupby(\"Demand\").agg([\"mean\",\"count\"])\n",
    "de_train.columns=[\"de_mean\",\"de_count\"]\n",
    "de_train.head()"
   ]
  },
  {
   "cell_type": "code",
   "execution_count": 284,
   "metadata": {},
   "outputs": [],
   "source": [
    "train=pd.merge(train,de_train, on=[\"Demand\"], how=\"left\")\n",
    "test=pd.merge(test,de_train, on=[\"Demand\"], how=\"left\")"
   ]
  },
  {
   "cell_type": "code",
   "execution_count": 285,
   "metadata": {},
   "outputs": [
    {
     "data": {
      "text/html": [
       "<div>\n",
       "<style scoped>\n",
       "    .dataframe tbody tr th:only-of-type {\n",
       "        vertical-align: middle;\n",
       "    }\n",
       "\n",
       "    .dataframe tbody tr th {\n",
       "        vertical-align: top;\n",
       "    }\n",
       "\n",
       "    .dataframe thead th {\n",
       "        text-align: right;\n",
       "    }\n",
       "</style>\n",
       "<table border=\"1\" class=\"dataframe\">\n",
       "  <thead>\n",
       "    <tr style=\"text-align: right;\">\n",
       "      <th></th>\n",
       "      <th>h_mean</th>\n",
       "      <th>h_count</th>\n",
       "    </tr>\n",
       "    <tr>\n",
       "      <th>hour</th>\n",
       "      <th></th>\n",
       "      <th></th>\n",
       "    </tr>\n",
       "  </thead>\n",
       "  <tbody>\n",
       "    <tr>\n",
       "      <th>0</th>\n",
       "      <td>4622.640620</td>\n",
       "      <td>234</td>\n",
       "    </tr>\n",
       "    <tr>\n",
       "      <th>1</th>\n",
       "      <td>4269.110722</td>\n",
       "      <td>171</td>\n",
       "    </tr>\n",
       "    <tr>\n",
       "      <th>2</th>\n",
       "      <td>4426.331887</td>\n",
       "      <td>153</td>\n",
       "    </tr>\n",
       "    <tr>\n",
       "      <th>3</th>\n",
       "      <td>5110.595719</td>\n",
       "      <td>211</td>\n",
       "    </tr>\n",
       "    <tr>\n",
       "      <th>4</th>\n",
       "      <td>5134.744183</td>\n",
       "      <td>243</td>\n",
       "    </tr>\n",
       "  </tbody>\n",
       "</table>\n",
       "</div>"
      ],
      "text/plain": [
       "           h_mean  h_count\n",
       "hour                      \n",
       "0     4622.640620      234\n",
       "1     4269.110722      171\n",
       "2     4426.331887      153\n",
       "3     5110.595719      211\n",
       "4     5134.744183      243"
      ]
     },
     "execution_count": 285,
     "metadata": {},
     "output_type": "execute_result"
    }
   ],
   "source": [
    "h_train=train[[\"hour\",\"Selling_Price\"]].groupby(\"hour\").agg([\"mean\",\"count\"])\n",
    "h_train.columns=[\"h_mean\",\"h_count\"]\n",
    "h_train.head()"
   ]
  },
  {
   "cell_type": "code",
   "execution_count": 286,
   "metadata": {},
   "outputs": [],
   "source": [
    "train=pd.merge(train,h_train, on=[\"hour\"], how=\"left\")\n",
    "test=pd.merge(test,h_train, on=[\"hour\"], how=\"left\")"
   ]
  },
  {
   "cell_type": "code",
   "execution_count": 287,
   "metadata": {},
   "outputs": [
    {
     "data": {
      "text/html": [
       "<div>\n",
       "<style scoped>\n",
       "    .dataframe tbody tr th:only-of-type {\n",
       "        vertical-align: middle;\n",
       "    }\n",
       "\n",
       "    .dataframe tbody tr th {\n",
       "        vertical-align: top;\n",
       "    }\n",
       "\n",
       "    .dataframe thead th {\n",
       "        text-align: right;\n",
       "    }\n",
       "</style>\n",
       "<table border=\"1\" class=\"dataframe\">\n",
       "  <thead>\n",
       "    <tr style=\"text-align: right;\">\n",
       "      <th></th>\n",
       "      <th>s_mean</th>\n",
       "      <th>s_count</th>\n",
       "    </tr>\n",
       "    <tr>\n",
       "      <th>Stall_no</th>\n",
       "      <th></th>\n",
       "      <th></th>\n",
       "    </tr>\n",
       "  </thead>\n",
       "  <tbody>\n",
       "    <tr>\n",
       "      <th>1.0</th>\n",
       "      <td>4556.379258</td>\n",
       "      <td>127</td>\n",
       "    </tr>\n",
       "    <tr>\n",
       "      <th>2.0</th>\n",
       "      <td>4146.110183</td>\n",
       "      <td>151</td>\n",
       "    </tr>\n",
       "    <tr>\n",
       "      <th>3.0</th>\n",
       "      <td>4948.438739</td>\n",
       "      <td>128</td>\n",
       "    </tr>\n",
       "    <tr>\n",
       "      <th>4.0</th>\n",
       "      <td>4256.108982</td>\n",
       "      <td>119</td>\n",
       "    </tr>\n",
       "    <tr>\n",
       "      <th>5.0</th>\n",
       "      <td>4455.699711</td>\n",
       "      <td>128</td>\n",
       "    </tr>\n",
       "  </tbody>\n",
       "</table>\n",
       "</div>"
      ],
      "text/plain": [
       "               s_mean  s_count\n",
       "Stall_no                      \n",
       "1.0       4556.379258      127\n",
       "2.0       4146.110183      151\n",
       "3.0       4948.438739      128\n",
       "4.0       4256.108982      119\n",
       "5.0       4455.699711      128"
      ]
     },
     "execution_count": 287,
     "metadata": {},
     "output_type": "execute_result"
    }
   ],
   "source": [
    "d_train=train[[\"Stall_no\",\"Selling_Price\"]].groupby(\"Stall_no\").agg([\"mean\",\"count\"])\n",
    "d_train.columns=[\"s_mean\",\"s_count\"]\n",
    "d_train.head()"
   ]
  },
  {
   "cell_type": "code",
   "execution_count": 288,
   "metadata": {},
   "outputs": [],
   "source": [
    "train=pd.merge(train,d_train, on=[\"Stall_no\"], how=\"left\")\n",
    "test=pd.merge(test,d_train, on=[\"Stall_no\"], how=\"left\")"
   ]
  },
  {
   "cell_type": "code",
   "execution_count": 289,
   "metadata": {},
   "outputs": [],
   "source": [
    "train.drop([\"Product_Category\",\"Stall_no\",\"Demand\",\"Grade\"],axis=1, inplace=True)\n",
    "test.drop([\"Product_Category\",\"Stall_no\",\"Demand\",\"Grade\"],axis=1, inplace=True)"
   ]
  },
  {
   "cell_type": "code",
   "execution_count": 290,
   "metadata": {},
   "outputs": [],
   "source": [
    "train=pd.get_dummies(train)\n",
    "test=pd.get_dummies(test)"
   ]
  },
  {
   "cell_type": "code",
   "execution_count": 292,
   "metadata": {},
   "outputs": [
    {
     "name": "stdout",
     "output_type": "stream",
     "text": [
      "<class 'pandas.core.frame.DataFrame'>\n",
      "Int64Index: 3430 entries, 0 to 3429\n",
      "Data columns (total 24 columns):\n",
      " #   Column                Non-Null Count  Dtype  \n",
      "---  ------                --------------  -----  \n",
      " 0   Market_Category       3430 non-null   int64  \n",
      " 1   Discount_avail        3430 non-null   int64  \n",
      " 2   charges_1             3430 non-null   float64\n",
      " 3   charges_2 (%)         3430 non-null   float64\n",
      " 4   Minimum_price         3430 non-null   float64\n",
      " 5   Maximum_price         3430 non-null   int64  \n",
      " 6   day                   3430 non-null   int64  \n",
      " 7   month                 3430 non-null   int64  \n",
      " 8   hour                  3430 non-null   int64  \n",
      " 9   dayofweek             3430 non-null   int64  \n",
      " 10  m_mean                3396 non-null   float64\n",
      " 11  m_count               3396 non-null   float64\n",
      " 12  mean                  3430 non-null   float64\n",
      " 13  count                 3430 non-null   int64  \n",
      " 14  g_mean                3430 non-null   float64\n",
      " 15  g_count               3430 non-null   int64  \n",
      " 16  de_mean               3430 non-null   float64\n",
      " 17  de_count              3430 non-null   int64  \n",
      " 18  h_mean                3430 non-null   float64\n",
      " 19  h_count               3430 non-null   int64  \n",
      " 20  s_mean                3430 non-null   float64\n",
      " 21  s_count               3430 non-null   int64  \n",
      " 22  Loyalty_customer_No   3430 non-null   uint8  \n",
      " 23  Loyalty_customer_Yes  3430 non-null   uint8  \n",
      "dtypes: float64(10), int64(12), uint8(2)\n",
      "memory usage: 623.0 KB\n"
     ]
    }
   ],
   "source": [
    "test.info()"
   ]
  },
  {
   "cell_type": "code",
   "execution_count": 293,
   "metadata": {},
   "outputs": [],
   "source": [
    "test[\"m_mean\"].fillna(np.mean(train[\"m_mean\"]), inplace=True)\n",
    "test[\"m_count\"].fillna(np.mean(train[\"m_count\"]), inplace=True)\n",
    "\n",
    "#test[\"m_count\"].fillna(np.mean(train[\"m_count\"]), inplace=True)\n",
    "\n",
    "#test[\"m_count\"].fillna(np.mean(train[\"m_count\"]), inplace=True)"
   ]
  },
  {
   "cell_type": "code",
   "execution_count": 26,
   "metadata": {},
   "outputs": [
    {
     "data": {
      "image/png": "[encoded data removed]",
      "text/plain": [
       "<Figure size 1296x720 with 2 Axes>"
      ]
     },
     "metadata": {
      "needs_background": "light"
     },
     "output_type": "display_data"
    }
   ],
   "source": [
    "plt.figure(figsize=(18,10))\n",
    "sns.heatmap(train.corr(), annot=True, fmt=\"0.1f\");"
   ]
  },
  {
   "cell_type": "code",
   "execution_count": 294,
   "metadata": {},
   "outputs": [],
   "source": [
    "x=train.drop(\"Selling_Price\", axis=1)\n",
    "y=train[\"Selling_Price\"]"
   ]
  },
  {
   "cell_type": "code",
   "execution_count": 295,
   "metadata": {},
   "outputs": [
    {
     "name": "stdout",
     "output_type": "stream",
     "text": [
      "<class 'pandas.core.frame.DataFrame'>\n",
      "Int64Index: 6313 entries, 0 to 6312\n",
      "Data columns (total 24 columns):\n",
      " #   Column                Non-Null Count  Dtype  \n",
      "---  ------                --------------  -----  \n",
      " 0   Market_Category       6313 non-null   int64  \n",
      " 1   Discount_avail        6313 non-null   float64\n",
      " 2   charges_1             6313 non-null   float64\n",
      " 3   charges_2 (%)         6313 non-null   float64\n",
      " 4   Minimum_price         6313 non-null   float64\n",
      " 5   Maximum_price         6313 non-null   float64\n",
      " 6   day                   6313 non-null   int64  \n",
      " 7   month                 6313 non-null   int64  \n",
      " 8   hour                  6313 non-null   int64  \n",
      " 9   dayofweek             6313 non-null   int64  \n",
      " 10  m_mean                6313 non-null   float64\n",
      " 11  m_count               6313 non-null   int64  \n",
      " 12  mean                  6313 non-null   float64\n",
      " 13  count                 6313 non-null   int64  \n",
      " 14  g_mean                6313 non-null   float64\n",
      " 15  g_count               6313 non-null   int64  \n",
      " 16  de_mean               6313 non-null   float64\n",
      " 17  de_count              6313 non-null   int64  \n",
      " 18  h_mean                6313 non-null   float64\n",
      " 19  h_count               6313 non-null   int64  \n",
      " 20  s_mean                6313 non-null   float64\n",
      " 21  s_count               6313 non-null   int64  \n",
      " 22  Loyalty_customer_No   6313 non-null   uint8  \n",
      " 23  Loyalty_customer_Yes  6313 non-null   uint8  \n",
      "dtypes: float64(11), int64(11), uint8(2)\n",
      "memory usage: 1.1 MB\n"
     ]
    }
   ],
   "source": [
    "x.info()"
   ]
  },
  {
   "cell_type": "code",
   "execution_count": 296,
   "metadata": {},
   "outputs": [
    {
     "data": {
      "text/plain": [
       "326.9495578190643"
      ]
     },
     "execution_count": 296,
     "metadata": {},
     "output_type": "execute_result"
    }
   ],
   "source": [
    "lgb=LGBMRegressor()\n",
    "score=cross_val_score(lgb, x,y, cv=5, scoring=\"neg_mean_squared_error\")\n",
    "np.sqrt(-np.mean(score))"
   ]
  },
  {
   "cell_type": "code",
   "execution_count": 297,
   "metadata": {},
   "outputs": [
    {
     "data": {
      "text/plain": [
       "320.0621223325794"
      ]
     },
     "execution_count": 297,
     "metadata": {},
     "output_type": "execute_result"
    }
   ],
   "source": [
    "xgb=XGBRegressor()\n",
    "score=cross_val_score(xgb, x,y, cv=5, scoring=\"neg_mean_squared_error\")\n",
    "np.sqrt(-np.mean(score))"
   ]
  },
  {
   "cell_type": "code",
   "execution_count": 298,
   "metadata": {},
   "outputs": [
    {
     "data": {
      "text/plain": [
       "284.87272592641176"
      ]
     },
     "execution_count": 298,
     "metadata": {},
     "output_type": "execute_result"
    }
   ],
   "source": [
    "from sklearn.ensemble import RandomForestRegressor, ExtraTreesRegressor\n",
    "rf=RandomForestRegressor()\n",
    "et=ExtraTreesRegressor()\n",
    "score=cross_val_score(et, x,y, cv=5, scoring=\"neg_mean_squared_error\")\n",
    "np.sqrt(-np.mean(score))"
   ]
  },
  {
   "cell_type": "code",
   "execution_count": 708,
   "metadata": {},
   "outputs": [],
   "source": [
    "xgb.fit(x,y)\n",
    "pred=xgb.predict(test)"
   ]
  },
  {
   "cell_type": "code",
   "execution_count": 299,
   "metadata": {},
   "outputs": [
    {
     "data": {
      "text/plain": [
       "1.0"
      ]
     },
     "execution_count": 299,
     "metadata": {},
     "output_type": "execute_result"
    }
   ],
   "source": [
    "et.fit(x,y)\n",
    "et.score(x,y)"
   ]
  },
  {
   "cell_type": "code",
   "execution_count": 300,
   "metadata": {},
   "outputs": [],
   "source": [
    "#rf=RandomForestRegressor(max_depth=11, n_estimators=200,min_samples_split=10, min_samples_leaf=5 )\n",
    "et.fit(x,y)\n",
    "pred=et.predict(test)"
   ]
  },
  {
   "cell_type": "code",
   "execution_count": 230,
   "metadata": {},
   "outputs": [],
   "source": [
    "#lgb=LGBMRegressor(max_depth=12,n_estimators=869, learning_rate=0.016520094866276484, min_child_weight=9)\n",
    "lgb.fit(x,y)\n",
    "pred=lgb.predict(test)"
   ]
  },
  {
   "cell_type": "code",
   "execution_count": 301,
   "metadata": {},
   "outputs": [],
   "source": [
    "pred=np.where(pred<0,np.mean(pred),pred)"
   ]
  },
  {
   "cell_type": "code",
   "execution_count": 302,
   "metadata": {},
   "outputs": [],
   "source": [
    "test_df=pd.read_csv(r\"C:\\Users\\Rahul\\Downloads\\Data\\ML1\\dataset\\test.csv\", parse_dates=[\"instock_date\"])"
   ]
  },
  {
   "cell_type": "code",
   "execution_count": 303,
   "metadata": {},
   "outputs": [
    {
     "data": {
      "text/html": [
       "<div>\n",
       "<style scoped>\n",
       "    .dataframe tbody tr th:only-of-type {\n",
       "        vertical-align: middle;\n",
       "    }\n",
       "\n",
       "    .dataframe tbody tr th {\n",
       "        vertical-align: top;\n",
       "    }\n",
       "\n",
       "    .dataframe thead th {\n",
       "        text-align: right;\n",
       "    }\n",
       "</style>\n",
       "<table border=\"1\" class=\"dataframe\">\n",
       "  <thead>\n",
       "    <tr style=\"text-align: right;\">\n",
       "      <th></th>\n",
       "      <th>Product_id</th>\n",
       "      <th>Selling_Price</th>\n",
       "    </tr>\n",
       "  </thead>\n",
       "  <tbody>\n",
       "    <tr>\n",
       "      <th>0</th>\n",
       "      <td>SCHE4YSTDVPVZVXW</td>\n",
       "      <td>3259.127676</td>\n",
       "    </tr>\n",
       "    <tr>\n",
       "      <th>1</th>\n",
       "      <td>ACCEGCATKHNRXUHW</td>\n",
       "      <td>1950.503585</td>\n",
       "    </tr>\n",
       "    <tr>\n",
       "      <th>2</th>\n",
       "      <td>NKCE6GJ5XVJDXNNZ</td>\n",
       "      <td>11789.470703</td>\n",
       "    </tr>\n",
       "    <tr>\n",
       "      <th>3</th>\n",
       "      <td>NKCEB8BK3ZXDHDHM</td>\n",
       "      <td>9373.614768</td>\n",
       "    </tr>\n",
       "    <tr>\n",
       "      <th>4</th>\n",
       "      <td>TOPEFDXSAHRNPF94</td>\n",
       "      <td>5690.431367</td>\n",
       "    </tr>\n",
       "  </tbody>\n",
       "</table>\n",
       "</div>"
      ],
      "text/plain": [
       "         Product_id  Selling_Price\n",
       "0  SCHE4YSTDVPVZVXW    3259.127676\n",
       "1  ACCEGCATKHNRXUHW    1950.503585\n",
       "2  NKCE6GJ5XVJDXNNZ   11789.470703\n",
       "3  NKCEB8BK3ZXDHDHM    9373.614768\n",
       "4  TOPEFDXSAHRNPF94    5690.431367"
      ]
     },
     "execution_count": 303,
     "metadata": {},
     "output_type": "execute_result"
    }
   ],
   "source": [
    "a=zip(test_df[\"Product_id\"],pred)\n",
    "pred=pd.DataFrame(a, columns=[\"Product_id\",\"Selling_Price\"])\n",
    "pred.to_csv(\"submission.csv\", index=False)\n",
    "pred.head()"
   ]
  }
 ],
 "metadata": {
  "kernelspec": {
   "display_name": "Python 3",
   "language": "python",
   "name": "python3"
  },
  "language_info": {
   "codemirror_mode": {
    "name": "ipython",
    "version": 3
   },
   "file_extension": ".py",
   "mimetype": "text/x-python",
   "name": "python",
   "nbconvert_exporter": "python",
   "pygments_lexer": "ipython3",
   "version": "3.8.5"
  }
 },
 "nbformat": 4,
 "nbformat_minor": 4
}
